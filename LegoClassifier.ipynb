{
 "cells": [
  {
   "metadata": {},
   "cell_type": "markdown",
   "source": "# Классификация лего",
   "id": "8bb71447e7e9234a"
  },
  {
   "cell_type": "code",
   "id": "initial_id",
   "metadata": {
    "collapsed": true,
    "ExecuteTime": {
     "end_time": "2024-10-31T12:34:19.779366Z",
     "start_time": "2024-10-31T12:34:19.754020Z"
    }
   },
   "source": [
    "import numpy as np\n",
    "import matplotlib.pyplot as plt\n",
    "\n",
    "import pickle\n",
    "\n",
    "from tqdm.notebook import tqdm, trange\n",
    "\n",
    "import torch as t\n",
    "from torch import nn\n",
    "from torch.nn import functional as f\n",
    "from torch.utils.data import TensorDataset, DataLoader\n",
    "from torchvision import transforms\n",
    "\n",
    "from sklearn.metrics import classification_report"
   ],
   "outputs": [],
   "execution_count": 165
  },
  {
   "metadata": {
    "ExecuteTime": {
     "end_time": "2024-10-31T12:34:20.030822Z",
     "start_time": "2024-10-31T12:34:20.008814Z"
    }
   },
   "cell_type": "code",
   "source": [
    "# Импорт данных\n",
    "train_data = pickle.load(open('data/lego-train.pickle', 'rb'))\n",
    "test_data = pickle.load(open('data/lego-test.pickle', 'rb'))"
   ],
   "id": "5d2a5fff139c4704",
   "outputs": [],
   "execution_count": 166
  },
  {
   "metadata": {
    "ExecuteTime": {
     "end_time": "2024-10-31T12:34:20.296286Z",
     "start_time": "2024-10-31T12:34:20.278404Z"
    }
   },
   "cell_type": "code",
   "source": [
    "# Функция для подготовки данных\n",
    "def data_to_TensorDataset(data, transform_fn):\n",
    "    objects = t.Tensor([img for img, _ in data]).permute(0, 3, 1, 2)\n",
    "    objects = transform_fn(objects)\n",
    "    targets = t.LongTensor([lbl for _, lbl in data])\n",
    "    \n",
    "    dataset = TensorDataset(objects, targets)\n",
    "    return dataset"
   ],
   "id": "3bc4017cbd53253c",
   "outputs": [],
   "execution_count": 167
  },
  {
   "metadata": {
    "ExecuteTime": {
     "end_time": "2024-10-31T12:34:23.522579Z",
     "start_time": "2024-10-31T12:34:20.469107Z"
    }
   },
   "cell_type": "code",
   "source": [
    "# Создаем трансформер для изображений\n",
    "transform = transforms.Compose([\n",
    "    transforms.Normalize(0.5, 0.5),\n",
    "    transforms.RandomCrop(48, padding=4),\n",
    "])\n",
    "\n",
    "train_data = data_to_TensorDataset(train_data, transform)\n",
    "test_data = data_to_TensorDataset(test_data, transform)"
   ],
   "id": "e8d34d8e856c55fc",
   "outputs": [],
   "execution_count": 168
  },
  {
   "metadata": {
    "ExecuteTime": {
     "end_time": "2024-10-31T12:34:23.569100Z",
     "start_time": "2024-10-31T12:34:23.525581Z"
    }
   },
   "cell_type": "code",
   "source": [
    "def train(model, gadget, train_loader, test_loader, criterion, optimizer,\n",
    "          num_epochs, train_losses_list = None, test_losses_list = None):\n",
    "    \"\"\"Функция обучения нейросети\"\"\"\n",
    "    if train_losses_list is None and test_losses_list is None:\n",
    "        train_losses_list = []\n",
    "        test_losses_list = []\n",
    "    \n",
    "    for _ in trange(num_epochs):\n",
    "        model.train()\n",
    "        \n",
    "        desc = round(test_losses_list[-1], 4) if len(test_losses_list) > 0 else np.inf\n",
    "        for batch in tqdm(train_loader, desc=f'Последний loss={desc}'):\n",
    "            X_batch = batch[0].to(gadget)\n",
    "            y_batch = batch[1].to(gadget)\n",
    "            \n",
    "            optimizer.zero_grad()\n",
    "            \n",
    "            logit = model(X_batch)\n",
    "            loss = criterion(logit, y_batch)\n",
    "    \n",
    "            loss.backward()\n",
    "            optimizer.step()\n",
    "    \n",
    "            train_losses_list.append(loss.item())\n",
    "        \n",
    "        model.eval()\n",
    "        with t.no_grad():\n",
    "            for batch in test_loader:\n",
    "                X_batch = batch[0].to(gadget)\n",
    "                y_batch = batch[1].to(gadget)\n",
    "                \n",
    "                loss = criterion(model(X_batch), y_batch)\n",
    "                test_losses_list.append(loss.item())\n",
    "        \n",
    "    return train_losses_list, test_losses_list"
   ],
   "id": "224df0f72132033f",
   "outputs": [],
   "execution_count": 169
  },
  {
   "metadata": {
    "ExecuteTime": {
     "end_time": "2024-10-31T13:24:26.177539Z",
     "start_time": "2024-10-31T13:24:26.156528Z"
    }
   },
   "cell_type": "code",
   "source": [
    "class StNet(nn.Module):\n",
    "    def __init__(self):\n",
    "        super(StNet, self).__init__()\n",
    "        \n",
    "        self.conv1 = nn.Conv2d(in_channels=1, out_channels=16, kernel_size=5)\n",
    "        self.conv2 = nn.Conv2d(in_channels=16, out_channels=32, kernel_size=3)\n",
    "        self.conv3 = nn.Conv2d(in_channels=32, out_channels=64, kernel_size=2, stride=2)\n",
    "        self.conv4 = nn.Conv2d(in_channels=64, out_channels=128, kernel_size=3)\n",
    "        self.conv5 = nn.Conv2d(in_channels=128, out_channels=256, kernel_size=3, padding=1)\n",
    "        \n",
    "        self.fc1 = nn.Linear(in_features=256, out_features=256)\n",
    "        self.fc2 = nn.Linear(in_features=256, out_features=128)\n",
    "        self.fc3 = nn.Linear(in_features=128, out_features=128)\n",
    "        self.fc4 = nn.Linear(in_features=128, out_features=10)\n",
    "        \n",
    "        self.pool = nn.MaxPool2d(kernel_size=2, stride=2)\n",
    "        self.avg_pool = nn.AdaptiveAvgPool2d((1, 1))\n",
    "        \n",
    "        self.batch_norm_cv1 = nn.BatchNorm2d(num_features=16, eps=0.001)\n",
    "        self.batch_norm_cv2 = nn.BatchNorm2d(num_features=32, eps=0.001)\n",
    "        self.batch_norm_cv3 = nn.BatchNorm2d(num_features=64, eps=0.001)\n",
    "        self.batch_norm_cv4 = nn.BatchNorm2d(num_features=128, eps=0.001)\n",
    "        \n",
    "        self.dropout = nn.Dropout(p=0.2)\n",
    "        \n",
    "        \n",
    "    def forward(self, x):\n",
    "        # Convolutional layers\n",
    "        out = self.batch_norm_cv1(self.pool(f.relu(self.conv1(x))))  # BSx16x22x22\n",
    "        out = self.batch_norm_cv2(f.relu(self.conv2(out)))  # BSx32x20x20\n",
    "        out = self.batch_norm_cv3(f.relu(self.conv3(out)))  # BSx64x10x10\n",
    "        out = self.batch_norm_cv4(self.pool(f.relu(self.conv4(out))))  # BSx128x4x4\n",
    "        out = self.avg_pool(f.relu(self.conv5(out)))  # BSx128x4x4-> BSx2048\n",
    "        \n",
    "        out = t.flatten(out, 1)\n",
    "        \n",
    "        # Fully-connected layers\n",
    "        out = self.dropout(f.relu(self.fc1(out)))\n",
    "        out = self.dropout(f.relu(self.fc2(out)))\n",
    "        out = f.relu(self.fc3(out))\n",
    "        out = self.fc4(out)\n",
    "        \n",
    "        return out"
   ],
   "id": "e872be884817a35d",
   "outputs": [],
   "execution_count": 458
  },
  {
   "metadata": {
    "ExecuteTime": {
     "end_time": "2024-10-31T13:28:32.600669Z",
     "start_time": "2024-10-31T13:28:32.579271Z"
    }
   },
   "cell_type": "code",
   "source": [
    "# Используем по возможности CUDA\n",
    "device = 'cuda' if t.cuda.is_available() else 'cpu'\n",
    "my_model = StNet().to(device)\n",
    "\n",
    "# Задаем гиперпараметры\n",
    "learning_rate = 0.0003\n",
    "batch_size = 16\n",
    "epochs = 50\n",
    "\n",
    "# Создаем DataLoader'ы\n",
    "train_dataloader = DataLoader(train_data, batch_size=batch_size, shuffle=True, num_workers=0)\n",
    "test_dataloader = DataLoader(test_data, batch_size=batch_size, num_workers=0)\n",
    "\n",
    "# Фиксируем функцию потерь и оптимизатор\n",
    "loss_function = nn.CrossEntropyLoss()\n",
    "optim = t.optim.Adam(my_model.parameters(), lr=learning_rate)"
   ],
   "id": "593d6367b43c8ccf",
   "outputs": [],
   "execution_count": 497
  },
  {
   "metadata": {
    "ExecuteTime": {
     "end_time": "2024-10-31T13:29:05.055724Z",
     "start_time": "2024-10-31T13:28:33.057779Z"
    }
   },
   "cell_type": "code",
   "source": [
    "# Обучение модели\n",
    "train_losses, test_losses = train(my_model, device, train_dataloader, test_dataloader, loss_function, optim, epochs)"
   ],
   "id": "bc0e809aaa4ccb23",
   "outputs": [
    {
     "data": {
      "text/plain": [
       "  0%|          | 0/50 [00:00<?, ?it/s]"
      ],
      "application/vnd.jupyter.widget-view+json": {
       "version_major": 2,
       "version_minor": 0,
       "model_id": "9941acde8067411b9d9b426bec3e7e29"
      }
     },
     "metadata": {},
     "output_type": "display_data"
    },
    {
     "data": {
      "text/plain": [
       "Последний loss=inf:   0%|          | 0/29 [00:00<?, ?it/s]"
      ],
      "application/vnd.jupyter.widget-view+json": {
       "version_major": 2,
       "version_minor": 0,
       "model_id": "6bcfee3d680a4b06bae26418e20df076"
      }
     },
     "metadata": {},
     "output_type": "display_data"
    },
    {
     "data": {
      "text/plain": [
       "Последний loss=2.1111:   0%|          | 0/29 [00:00<?, ?it/s]"
      ],
      "application/vnd.jupyter.widget-view+json": {
       "version_major": 2,
       "version_minor": 0,
       "model_id": "963e3b272b8242a7b56f8c249c16e651"
      }
     },
     "metadata": {},
     "output_type": "display_data"
    },
    {
     "data": {
      "text/plain": [
       "Последний loss=1.8416:   0%|          | 0/29 [00:00<?, ?it/s]"
      ],
      "application/vnd.jupyter.widget-view+json": {
       "version_major": 2,
       "version_minor": 0,
       "model_id": "ee6c9266703842bcbec94814b46d8727"
      }
     },
     "metadata": {},
     "output_type": "display_data"
    },
    {
     "data": {
      "text/plain": [
       "Последний loss=1.3011:   0%|          | 0/29 [00:00<?, ?it/s]"
      ],
      "application/vnd.jupyter.widget-view+json": {
       "version_major": 2,
       "version_minor": 0,
       "model_id": "c25ca075646145c6b286fd0f9c0e95b6"
      }
     },
     "metadata": {},
     "output_type": "display_data"
    },
    {
     "data": {
      "text/plain": [
       "Последний loss=1.1227:   0%|          | 0/29 [00:00<?, ?it/s]"
      ],
      "application/vnd.jupyter.widget-view+json": {
       "version_major": 2,
       "version_minor": 0,
       "model_id": "0e8a5b2c89d94f5db9ceb21a9d6f8f42"
      }
     },
     "metadata": {},
     "output_type": "display_data"
    },
    {
     "data": {
      "text/plain": [
       "Последний loss=1.0445:   0%|          | 0/29 [00:00<?, ?it/s]"
      ],
      "application/vnd.jupyter.widget-view+json": {
       "version_major": 2,
       "version_minor": 0,
       "model_id": "c0634b2849ef49db8eeac94dfe39885c"
      }
     },
     "metadata": {},
     "output_type": "display_data"
    },
    {
     "data": {
      "text/plain": [
       "Последний loss=0.7564:   0%|          | 0/29 [00:00<?, ?it/s]"
      ],
      "application/vnd.jupyter.widget-view+json": {
       "version_major": 2,
       "version_minor": 0,
       "model_id": "324d21b5d2cc40f6ab9f382706a3b975"
      }
     },
     "metadata": {},
     "output_type": "display_data"
    },
    {
     "data": {
      "text/plain": [
       "Последний loss=0.9649:   0%|          | 0/29 [00:00<?, ?it/s]"
      ],
      "application/vnd.jupyter.widget-view+json": {
       "version_major": 2,
       "version_minor": 0,
       "model_id": "7af37fc7c28d4493b5c08d7c6ba20991"
      }
     },
     "metadata": {},
     "output_type": "display_data"
    },
    {
     "data": {
      "text/plain": [
       "Последний loss=0.372:   0%|          | 0/29 [00:00<?, ?it/s]"
      ],
      "application/vnd.jupyter.widget-view+json": {
       "version_major": 2,
       "version_minor": 0,
       "model_id": "2c7bca47dbc347759a0ca7e24ef8d714"
      }
     },
     "metadata": {},
     "output_type": "display_data"
    },
    {
     "data": {
      "text/plain": [
       "Последний loss=0.9009:   0%|          | 0/29 [00:00<?, ?it/s]"
      ],
      "application/vnd.jupyter.widget-view+json": {
       "version_major": 2,
       "version_minor": 0,
       "model_id": "9a9d98f372714b41a1b6a83d20734c9d"
      }
     },
     "metadata": {},
     "output_type": "display_data"
    },
    {
     "data": {
      "text/plain": [
       "Последний loss=0.254:   0%|          | 0/29 [00:00<?, ?it/s]"
      ],
      "application/vnd.jupyter.widget-view+json": {
       "version_major": 2,
       "version_minor": 0,
       "model_id": "5774b98d5d724ca2a238f7a202341f7f"
      }
     },
     "metadata": {},
     "output_type": "display_data"
    },
    {
     "data": {
      "text/plain": [
       "Последний loss=0.3423:   0%|          | 0/29 [00:00<?, ?it/s]"
      ],
      "application/vnd.jupyter.widget-view+json": {
       "version_major": 2,
       "version_minor": 0,
       "model_id": "9f92a2a250a44b049efe6f27c11a835c"
      }
     },
     "metadata": {},
     "output_type": "display_data"
    },
    {
     "data": {
      "text/plain": [
       "Последний loss=0.2899:   0%|          | 0/29 [00:00<?, ?it/s]"
      ],
      "application/vnd.jupyter.widget-view+json": {
       "version_major": 2,
       "version_minor": 0,
       "model_id": "27946a15947a48dab5780f4be7d2f815"
      }
     },
     "metadata": {},
     "output_type": "display_data"
    },
    {
     "data": {
      "text/plain": [
       "Последний loss=0.1643:   0%|          | 0/29 [00:00<?, ?it/s]"
      ],
      "application/vnd.jupyter.widget-view+json": {
       "version_major": 2,
       "version_minor": 0,
       "model_id": "e1f8d8f4b51742c1b24b8d9d24bb1492"
      }
     },
     "metadata": {},
     "output_type": "display_data"
    },
    {
     "data": {
      "text/plain": [
       "Последний loss=0.4377:   0%|          | 0/29 [00:00<?, ?it/s]"
      ],
      "application/vnd.jupyter.widget-view+json": {
       "version_major": 2,
       "version_minor": 0,
       "model_id": "df4870c9075c479f91496939bc980528"
      }
     },
     "metadata": {},
     "output_type": "display_data"
    },
    {
     "data": {
      "text/plain": [
       "Последний loss=0.3797:   0%|          | 0/29 [00:00<?, ?it/s]"
      ],
      "application/vnd.jupyter.widget-view+json": {
       "version_major": 2,
       "version_minor": 0,
       "model_id": "bd7e4f0b01914a0083a5afd8a58dcdfc"
      }
     },
     "metadata": {},
     "output_type": "display_data"
    },
    {
     "data": {
      "text/plain": [
       "Последний loss=0.5478:   0%|          | 0/29 [00:00<?, ?it/s]"
      ],
      "application/vnd.jupyter.widget-view+json": {
       "version_major": 2,
       "version_minor": 0,
       "model_id": "06898e567d104c45a2ce884f13387985"
      }
     },
     "metadata": {},
     "output_type": "display_data"
    },
    {
     "data": {
      "text/plain": [
       "Последний loss=0.206:   0%|          | 0/29 [00:00<?, ?it/s]"
      ],
      "application/vnd.jupyter.widget-view+json": {
       "version_major": 2,
       "version_minor": 0,
       "model_id": "59d494442fc2477fb9e15587b852b58b"
      }
     },
     "metadata": {},
     "output_type": "display_data"
    },
    {
     "data": {
      "text/plain": [
       "Последний loss=0.1321:   0%|          | 0/29 [00:00<?, ?it/s]"
      ],
      "application/vnd.jupyter.widget-view+json": {
       "version_major": 2,
       "version_minor": 0,
       "model_id": "ac0aabb5048848bf91bfd954cf80297c"
      }
     },
     "metadata": {},
     "output_type": "display_data"
    },
    {
     "data": {
      "text/plain": [
       "Последний loss=0.1321:   0%|          | 0/29 [00:00<?, ?it/s]"
      ],
      "application/vnd.jupyter.widget-view+json": {
       "version_major": 2,
       "version_minor": 0,
       "model_id": "da937bc2931e4262b135022edd988f2b"
      }
     },
     "metadata": {},
     "output_type": "display_data"
    },
    {
     "data": {
      "text/plain": [
       "Последний loss=0.4095:   0%|          | 0/29 [00:00<?, ?it/s]"
      ],
      "application/vnd.jupyter.widget-view+json": {
       "version_major": 2,
       "version_minor": 0,
       "model_id": "2406ef1c186144098ae6da938863312f"
      }
     },
     "metadata": {},
     "output_type": "display_data"
    },
    {
     "data": {
      "text/plain": [
       "Последний loss=0.1818:   0%|          | 0/29 [00:00<?, ?it/s]"
      ],
      "application/vnd.jupyter.widget-view+json": {
       "version_major": 2,
       "version_minor": 0,
       "model_id": "3224ab0688124c56b29d9675fb928b43"
      }
     },
     "metadata": {},
     "output_type": "display_data"
    },
    {
     "data": {
      "text/plain": [
       "Последний loss=0.1998:   0%|          | 0/29 [00:00<?, ?it/s]"
      ],
      "application/vnd.jupyter.widget-view+json": {
       "version_major": 2,
       "version_minor": 0,
       "model_id": "3a620d20cbce436eab9c02f8f7e7dec5"
      }
     },
     "metadata": {},
     "output_type": "display_data"
    },
    {
     "data": {
      "text/plain": [
       "Последний loss=0.1042:   0%|          | 0/29 [00:00<?, ?it/s]"
      ],
      "application/vnd.jupyter.widget-view+json": {
       "version_major": 2,
       "version_minor": 0,
       "model_id": "96146764202542779e732769d71a32f1"
      }
     },
     "metadata": {},
     "output_type": "display_data"
    },
    {
     "data": {
      "text/plain": [
       "Последний loss=0.0735:   0%|          | 0/29 [00:00<?, ?it/s]"
      ],
      "application/vnd.jupyter.widget-view+json": {
       "version_major": 2,
       "version_minor": 0,
       "model_id": "722b0dfe8b4d453bbe2d8cb117d6aa16"
      }
     },
     "metadata": {},
     "output_type": "display_data"
    },
    {
     "data": {
      "text/plain": [
       "Последний loss=0.0111:   0%|          | 0/29 [00:00<?, ?it/s]"
      ],
      "application/vnd.jupyter.widget-view+json": {
       "version_major": 2,
       "version_minor": 0,
       "model_id": "f626ba1ebb674977b13d4154cd0f14dd"
      }
     },
     "metadata": {},
     "output_type": "display_data"
    },
    {
     "data": {
      "text/plain": [
       "Последний loss=0.0096:   0%|          | 0/29 [00:00<?, ?it/s]"
      ],
      "application/vnd.jupyter.widget-view+json": {
       "version_major": 2,
       "version_minor": 0,
       "model_id": "8c890b4d72ac4fbcb567adca3991841a"
      }
     },
     "metadata": {},
     "output_type": "display_data"
    },
    {
     "data": {
      "text/plain": [
       "Последний loss=0.0098:   0%|          | 0/29 [00:00<?, ?it/s]"
      ],
      "application/vnd.jupyter.widget-view+json": {
       "version_major": 2,
       "version_minor": 0,
       "model_id": "a935a181e8f3493fb164e399d6e52eaa"
      }
     },
     "metadata": {},
     "output_type": "display_data"
    },
    {
     "data": {
      "text/plain": [
       "Последний loss=0.0201:   0%|          | 0/29 [00:00<?, ?it/s]"
      ],
      "application/vnd.jupyter.widget-view+json": {
       "version_major": 2,
       "version_minor": 0,
       "model_id": "160636cc1cf14ddf917d55c987fb5742"
      }
     },
     "metadata": {},
     "output_type": "display_data"
    },
    {
     "data": {
      "text/plain": [
       "Последний loss=0.0046:   0%|          | 0/29 [00:00<?, ?it/s]"
      ],
      "application/vnd.jupyter.widget-view+json": {
       "version_major": 2,
       "version_minor": 0,
       "model_id": "fe177c8537b94255a6ab88e836b193a9"
      }
     },
     "metadata": {},
     "output_type": "display_data"
    },
    {
     "data": {
      "text/plain": [
       "Последний loss=0.0085:   0%|          | 0/29 [00:00<?, ?it/s]"
      ],
      "application/vnd.jupyter.widget-view+json": {
       "version_major": 2,
       "version_minor": 0,
       "model_id": "8016e1809cbb4f0099feb1c13dd0f099"
      }
     },
     "metadata": {},
     "output_type": "display_data"
    },
    {
     "data": {
      "text/plain": [
       "Последний loss=0.007:   0%|          | 0/29 [00:00<?, ?it/s]"
      ],
      "application/vnd.jupyter.widget-view+json": {
       "version_major": 2,
       "version_minor": 0,
       "model_id": "9668bbc4d38641cb8c144665067b3052"
      }
     },
     "metadata": {},
     "output_type": "display_data"
    },
    {
     "data": {
      "text/plain": [
       "Последний loss=0.0037:   0%|          | 0/29 [00:00<?, ?it/s]"
      ],
      "application/vnd.jupyter.widget-view+json": {
       "version_major": 2,
       "version_minor": 0,
       "model_id": "d475fda3f39c494fb93ecc365270e492"
      }
     },
     "metadata": {},
     "output_type": "display_data"
    },
    {
     "data": {
      "text/plain": [
       "Последний loss=0.0042:   0%|          | 0/29 [00:00<?, ?it/s]"
      ],
      "application/vnd.jupyter.widget-view+json": {
       "version_major": 2,
       "version_minor": 0,
       "model_id": "3042f5e599154e03b5d7e127e626350c"
      }
     },
     "metadata": {},
     "output_type": "display_data"
    },
    {
     "data": {
      "text/plain": [
       "Последний loss=0.1085:   0%|          | 0/29 [00:00<?, ?it/s]"
      ],
      "application/vnd.jupyter.widget-view+json": {
       "version_major": 2,
       "version_minor": 0,
       "model_id": "97cfa9f85c6d45e0a51ac1d5bd920174"
      }
     },
     "metadata": {},
     "output_type": "display_data"
    },
    {
     "data": {
      "text/plain": [
       "Последний loss=0.1198:   0%|          | 0/29 [00:00<?, ?it/s]"
      ],
      "application/vnd.jupyter.widget-view+json": {
       "version_major": 2,
       "version_minor": 0,
       "model_id": "adf217993977424caa2dc170162a6ebb"
      }
     },
     "metadata": {},
     "output_type": "display_data"
    },
    {
     "data": {
      "text/plain": [
       "Последний loss=0.0427:   0%|          | 0/29 [00:00<?, ?it/s]"
      ],
      "application/vnd.jupyter.widget-view+json": {
       "version_major": 2,
       "version_minor": 0,
       "model_id": "5e18e8f4d8554fed9ecc989a1df935ee"
      }
     },
     "metadata": {},
     "output_type": "display_data"
    },
    {
     "data": {
      "text/plain": [
       "Последний loss=0.0026:   0%|          | 0/29 [00:00<?, ?it/s]"
      ],
      "application/vnd.jupyter.widget-view+json": {
       "version_major": 2,
       "version_minor": 0,
       "model_id": "1fa75ed612624f22aee84e8e75572ca5"
      }
     },
     "metadata": {},
     "output_type": "display_data"
    },
    {
     "data": {
      "text/plain": [
       "Последний loss=0.0576:   0%|          | 0/29 [00:00<?, ?it/s]"
      ],
      "application/vnd.jupyter.widget-view+json": {
       "version_major": 2,
       "version_minor": 0,
       "model_id": "147244797a0c43e9ac2b77820ee68278"
      }
     },
     "metadata": {},
     "output_type": "display_data"
    },
    {
     "data": {
      "text/plain": [
       "Последний loss=0.0161:   0%|          | 0/29 [00:00<?, ?it/s]"
      ],
      "application/vnd.jupyter.widget-view+json": {
       "version_major": 2,
       "version_minor": 0,
       "model_id": "690bb7c45fdc4193af0c29fe3693c257"
      }
     },
     "metadata": {},
     "output_type": "display_data"
    },
    {
     "data": {
      "text/plain": [
       "Последний loss=0.0443:   0%|          | 0/29 [00:00<?, ?it/s]"
      ],
      "application/vnd.jupyter.widget-view+json": {
       "version_major": 2,
       "version_minor": 0,
       "model_id": "c7ecd0b5c1c740febeff2b23ed1803d4"
      }
     },
     "metadata": {},
     "output_type": "display_data"
    },
    {
     "data": {
      "text/plain": [
       "Последний loss=0.0028:   0%|          | 0/29 [00:00<?, ?it/s]"
      ],
      "application/vnd.jupyter.widget-view+json": {
       "version_major": 2,
       "version_minor": 0,
       "model_id": "beda61ba43c34a229c1a96b221a60bec"
      }
     },
     "metadata": {},
     "output_type": "display_data"
    },
    {
     "data": {
      "text/plain": [
       "Последний loss=0.0946:   0%|          | 0/29 [00:00<?, ?it/s]"
      ],
      "application/vnd.jupyter.widget-view+json": {
       "version_major": 2,
       "version_minor": 0,
       "model_id": "cd9f4ca1fd9444ffbf90fb634a2ddfe6"
      }
     },
     "metadata": {},
     "output_type": "display_data"
    },
    {
     "data": {
      "text/plain": [
       "Последний loss=0.0015:   0%|          | 0/29 [00:00<?, ?it/s]"
      ],
      "application/vnd.jupyter.widget-view+json": {
       "version_major": 2,
       "version_minor": 0,
       "model_id": "c3594f623e5143e594225971a57202f5"
      }
     },
     "metadata": {},
     "output_type": "display_data"
    },
    {
     "data": {
      "text/plain": [
       "Последний loss=0.0036:   0%|          | 0/29 [00:00<?, ?it/s]"
      ],
      "application/vnd.jupyter.widget-view+json": {
       "version_major": 2,
       "version_minor": 0,
       "model_id": "a499b5633c8044189d3507a95b6b27af"
      }
     },
     "metadata": {},
     "output_type": "display_data"
    },
    {
     "data": {
      "text/plain": [
       "Последний loss=0.002:   0%|          | 0/29 [00:00<?, ?it/s]"
      ],
      "application/vnd.jupyter.widget-view+json": {
       "version_major": 2,
       "version_minor": 0,
       "model_id": "728f8c10e1854a4f94d736e5de54a4d3"
      }
     },
     "metadata": {},
     "output_type": "display_data"
    },
    {
     "data": {
      "text/plain": [
       "Последний loss=0.2555:   0%|          | 0/29 [00:00<?, ?it/s]"
      ],
      "application/vnd.jupyter.widget-view+json": {
       "version_major": 2,
       "version_minor": 0,
       "model_id": "35a29d2be5264af5ae8cf6ce37fb4a27"
      }
     },
     "metadata": {},
     "output_type": "display_data"
    },
    {
     "data": {
      "text/plain": [
       "Последний loss=0.0097:   0%|          | 0/29 [00:00<?, ?it/s]"
      ],
      "application/vnd.jupyter.widget-view+json": {
       "version_major": 2,
       "version_minor": 0,
       "model_id": "68ec19ef2b0c43b0ab2453d221c9e0e1"
      }
     },
     "metadata": {},
     "output_type": "display_data"
    },
    {
     "data": {
      "text/plain": [
       "Последний loss=0.0409:   0%|          | 0/29 [00:00<?, ?it/s]"
      ],
      "application/vnd.jupyter.widget-view+json": {
       "version_major": 2,
       "version_minor": 0,
       "model_id": "03f862e086ca48bb8c1900a5a3207224"
      }
     },
     "metadata": {},
     "output_type": "display_data"
    },
    {
     "data": {
      "text/plain": [
       "Последний loss=0.023:   0%|          | 0/29 [00:00<?, ?it/s]"
      ],
      "application/vnd.jupyter.widget-view+json": {
       "version_major": 2,
       "version_minor": 0,
       "model_id": "a7342293153e470596069dbf2855f024"
      }
     },
     "metadata": {},
     "output_type": "display_data"
    }
   ],
   "execution_count": 498
  },
  {
   "metadata": {
    "ExecuteTime": {
     "end_time": "2024-10-31T13:27:28.358392Z",
     "start_time": "2024-10-31T13:27:28.342437Z"
    }
   },
   "cell_type": "code",
   "source": [
    "# Функция для усреднения values на n_part частей\n",
    "def partial_mean(values: list, n_part: int) -> list:\n",
    "    return [np.mean(values[i * len(values) // n_part: (i + 1) * len(values) // n_part]) for i in range(n_part)]"
   ],
   "id": "b58f75d9f5facb29",
   "outputs": [],
   "execution_count": 490
  },
  {
   "metadata": {
    "ExecuteTime": {
     "end_time": "2024-10-31T13:29:07.440250Z",
     "start_time": "2024-10-31T13:29:07.192986Z"
    }
   },
   "cell_type": "code",
   "source": [
    "# Частично усредняем потери\n",
    "compact_train_losses = partial_mean(train_losses, epochs // 6)\n",
    "compact_test_losses = partial_mean(test_losses, epochs // 6)\n",
    "\n",
    "plt.figure(figsize=(12, 5))\n",
    "\n",
    "# Построим графики\n",
    "plt.title('Кривые потерь')\n",
    "\n",
    "plt.plot(compact_train_losses, label='Потери обучающей выборки')\n",
    "plt.plot(compact_test_losses, label='Потери тестовой выборки')\n",
    "\n",
    "plt.grid()\n",
    "plt.legend();"
   ],
   "id": "81debecbb96ad6a",
   "outputs": [
    {
     "data": {
      "text/plain": [
       "<Figure size 1200x500 with 1 Axes>"
      ],
      "image/png": "[encoded data removed]"
     },
     "metadata": {},
     "output_type": "display_data"
    }
   ],
   "execution_count": 499
  },
  {
   "metadata": {
    "ExecuteTime": {
     "end_time": "2024-10-31T13:58:15.178228Z",
     "start_time": "2024-10-31T13:58:14.444017Z"
    }
   },
   "cell_type": "code",
   "source": [
    "# Заполняем реальные и предсказанные тестовые значения\n",
    "y_test = []\n",
    "y_pred = []\n",
    "\n",
    "my_model.eval()\n",
    "with t.no_grad():\n",
    "    for Xt_batch, yt_batch in tqdm(test_dataloader):\n",
    "        y_test.append(yt_batch.cpu())\n",
    "        y_pred.append(t.argmax(my_model(Xt_batch.to(device)), dim=-1).cpu())\n",
    "\n",
    "y_test = np.hstack(y_test)\n",
    "y_pred = np.hstack(y_pred)"
   ],
   "id": "fb9a72e045566032",
   "outputs": [
    {
     "data": {
      "text/plain": [
       "  0%|          | 0/10 [00:00<?, ?it/s]"
      ],
      "application/vnd.jupyter.widget-view+json": {
       "version_major": 2,
       "version_minor": 0,
       "model_id": "86002f9896cf404896fea9e445a3c404"
      }
     },
     "metadata": {},
     "output_type": "display_data"
    }
   ],
   "execution_count": 528
  },
  {
   "metadata": {
    "ExecuteTime": {
     "end_time": "2024-10-31T13:29:10.165460Z",
     "start_time": "2024-10-31T13:29:10.134846Z"
    }
   },
   "cell_type": "code",
   "source": [
    "# Показатели метрик\n",
    "print(classification_report(y_test, y_pred))"
   ],
   "id": "6fcdfbd7e0180a59",
   "outputs": [
    {
     "name": "stdout",
     "output_type": "stream",
     "text": [
      "              precision    recall  f1-score   support\n",
      "\n",
      "           0       1.00      1.00      1.00        15\n",
      "           1       1.00      1.00      1.00        17\n",
      "           2       1.00      1.00      1.00        12\n",
      "           3       1.00      1.00      1.00        18\n",
      "           4       1.00      1.00      1.00        15\n",
      "           5       1.00      1.00      1.00        11\n",
      "           6       1.00      1.00      1.00        16\n",
      "           7       1.00      1.00      1.00        16\n",
      "           8       1.00      1.00      1.00        14\n",
      "           9       1.00      1.00      1.00        16\n",
      "\n",
      "    accuracy                           1.00       150\n",
      "   macro avg       1.00      1.00      1.00       150\n",
      "weighted avg       1.00      1.00      1.00       150\n",
      "\n"
     ]
    }
   ],
   "execution_count": 501
  },
  {
   "metadata": {},
   "cell_type": "markdown",
   "source": [
    "Архитектура:\n",
    "- \n",
    "- Свёрточных слоёв: 5\n",
    "- Полносвязных слоёв: 4\n",
    "- Функция активации: ReLU \n",
    "- Методы регуляризации: BatchNorm(для свёрточных слоев) и Dropout(для полносвязных)\n",
    "- Количество параметров: 499306\n",
    "\n",
    "Обучение:\n",
    "-\n",
    "- Learning rate = 0.0003\n",
    "- Epochs count = 50\n",
    "\n",
    "Результаты:\n",
    "-\n",
    "- Accuracy = 1.00\n",
    "- F1-score(macro) = 1.00\n"
   ],
   "id": "b3db732c3ec479a1"
  }
 ],
 "metadata": {
  "kernelspec": {
   "display_name": "Python 3",
   "language": "python",
   "name": "python3"
  },
  "language_info": {
   "codemirror_mode": {
    "name": "ipython",
    "version": 2
   },
   "file_extension": ".py",
   "mimetype": "text/x-python",
   "name": "python",
   "nbconvert_exporter": "python",
   "pygments_lexer": "ipython2",
   "version": "2.7.6"
  }
 },
 "nbformat": 4,
 "nbformat_minor": 5
}
